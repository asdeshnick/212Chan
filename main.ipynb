{
 "cells": [
  {
   "cell_type": "code",
   "execution_count": 1,
   "id": "798d221e",
   "metadata": {},
   "outputs": [
    {
     "name": "stdout",
     "output_type": "stream",
     "text": [
      "scrypt:32768:8:1$qrWHe88aYFSYe1GZ$7af087dd0f3a622f750eff3cd516a81beddf6d615b1ba4eeb70383aea36ed9e5e505dbba9465faac02ce3b5ae602da9a9bf0b2e57a427824a58fcd4edf16fda8\n"
     ]
    }
   ],
   "source": [
    "from werkzeug.security import generate_password_hash\n",
    "print(generate_password_hash('213912AdminQwe123'))"
   ]
  },
  {
   "cell_type": "markdown",
   "id": "05ce7e4f",
   "metadata": {},
   "source": []
  }
 ],
 "metadata": {
  "kernelspec": {
   "display_name": ".venv",
   "language": "python",
   "name": "python3"
  },
  "language_info": {
   "codemirror_mode": {
    "name": "ipython",
    "version": 3
   },
   "file_extension": ".py",
   "mimetype": "text/x-python",
   "name": "python",
   "nbconvert_exporter": "python",
   "pygments_lexer": "ipython3",
   "version": "3.12.4"
  }
 },
 "nbformat": 4,
 "nbformat_minor": 5
}
